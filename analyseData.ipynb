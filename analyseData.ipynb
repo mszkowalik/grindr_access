{
 "cells": [
  {
   "cell_type": "code",
   "execution_count": null,
   "metadata": {},
   "outputs": [],
   "source": [
    "import os\n",
    "import pickle\n",
    "\n",
    "def load_all_pickles(directory_path):\n",
    "    # Dictionary to store the combined data from all pickle files\n",
    "    output_data = {}\n",
    "\n",
    "    # Check if the directory exists\n",
    "    if not os.path.exists(directory_path):\n",
    "        print(f\"Directory {directory_path} not found.\")\n",
    "        return output_data\n",
    "\n",
    "    # List all files in the directory\n",
    "    for file_name in os.listdir(directory_path):\n",
    "        # Check if the file is a pickle file\n",
    "        if file_name.endswith('.pickle'):\n",
    "            file_path = os.path.join(directory_path, file_name)\n",
    "            try:\n",
    "                with open(file_path, 'rb') as file:\n",
    "                    # Load the pickle file and extend the output dictionary\n",
    "                    file_data = pickle.load(file)\n",
    "                    output_data.update(file_data)\n",
    "            except Exception as e:\n",
    "                print(f\"Error reading file {file_name}: {e}\")\n",
    "\n",
    "    return output_data"
   ]
  },
  {
   "cell_type": "code",
   "execution_count": null,
   "metadata": {},
   "outputs": [],
   "source": [
    "\n",
    "# Load all pickle files from the data directory and combine them into a single dictionary\n",
    "directory_path = 'data'\n",
    "combined_data = load_all_pickles(directory_path)"
   ]
  },
  {
   "cell_type": "code",
   "execution_count": null,
   "metadata": {},
   "outputs": [],
   "source": [
    "profiles = []"
   ]
  },
  {
   "cell_type": "code",
   "execution_count": null,
   "metadata": {},
   "outputs": [],
   "source": [
    "from copy import deepcopy"
   ]
  },
  {
   "cell_type": "code",
   "execution_count": null,
   "metadata": {},
   "outputs": [],
   "source": [
    "for key, value in combined_data.items():\n",
    "    timestamp = key[2]\n",
    "    position = key[:2]\n",
    "    for profile in value['items']:\n",
    "        prof = {}\n",
    "        prof.update(profile['data'])\n",
    "        prof['scraped_at'] = timestamp\n",
    "        prof['position'] = position\n",
    "\n",
    "        profiles.append(deepcopy(prof))"
   ]
  },
  {
   "cell_type": "code",
   "execution_count": null,
   "metadata": {},
   "outputs": [],
   "source": [
    "import pandas as pd\n",
    "\n",
    "# Convert the list of dictionaries to a pandas DataFrame\n",
    "df = pd.DataFrame(profiles)\n",
    "\n",
    "# Display the first few rows to confirm\n",
    "print(df.head())"
   ]
  },
  {
   "cell_type": "code",
   "execution_count": null,
   "metadata": {},
   "outputs": [],
   "source": [
    "import math\n",
    "import localization as lx\n",
    "# Initialize an empty dictionary to store the results\n",
    "location_data = {}\n",
    "# Group the DataFrame by 'profileId'\n",
    "grouped = df.groupby('profileId')\n",
    "\n",
    "P=lx.Project(mode='Earth1',solver='LSE')\n",
    "targets = []\n",
    "for profileId, group in grouped:\n",
    "    # Extract reference points and distances for the current group\n",
    "    ref_points = group['position'].tolist()\n",
    "    distances = group['distanceMeters'].tolist()\n",
    "    # print(ref_points, distances)\n",
    "    if len(ref_points) < 3:\n",
    "        continue\n",
    "    if any(math.isnan(distance) for distance in distances):\n",
    "        continue\n",
    "\n",
    "    for i in range(len(ref_points)):\n",
    "        P.add_anchor(f'anchore_{i}_{profileId}',ref_points[i])\n",
    "    t,label=P.add_target(ID=profileId)\n",
    "    targets.append(t)\n",
    "    for i in range(len(distances)):\n",
    "        t.add_measure(f'anchore_{i}_{profileId}',distances[i])\n",
    "\n",
    "    location_data[profileId] = {'ref_points':ref_points, 'distances':distances}\n",
    "\n"
   ]
  },
  {
   "cell_type": "code",
   "execution_count": null,
   "metadata": {},
   "outputs": [],
   "source": [
    "P.solve()"
   ]
  },
  {
   "cell_type": "code",
   "execution_count": null,
   "metadata": {},
   "outputs": [],
   "source": [
    "location_data.keys()"
   ]
  },
  {
   "cell_type": "code",
   "execution_count": null,
   "metadata": {},
   "outputs": [],
   "source": [
    "for t in targets:\n",
    "    if float(t.ID) in list(location_data.keys()):\n",
    "        location_data[float(t.ID)]['estimated_position'] = t.loc.x, t.loc.y"
   ]
  },
  {
   "cell_type": "code",
   "execution_count": null,
   "metadata": {},
   "outputs": [],
   "source": [
    "# Display the estimated positions\n",
    "for profileId, position in location_data.items():\n",
    "    print(f\"Profile ID: {profileId}, Estimated Position: {position.get('estimated_position', 'N/A')}\")"
   ]
  },
  {
   "cell_type": "code",
   "execution_count": null,
   "metadata": {},
   "outputs": [],
   "source": [
    "testID = 612839260.0"
   ]
  },
  {
   "cell_type": "code",
   "execution_count": null,
   "metadata": {},
   "outputs": [],
   "source": [
    "import matplotlib.pyplot as plt\n",
    "import numpy as np\n",
    "\n",
    "# Example reference points and distances (lat, lon) and meters\n",
    "reference_points = location_data[testID]['ref_points']\n",
    "distances = location_data[testID]['distances']\n",
    "calculated_point = location_data[testID]['estimated_position']\n",
    "\n",
    "# Plotting\n",
    "fig, ax = plt.subplots()\n",
    "\n",
    "# Convert distances to degrees approximately (quick approximation, valid for short distances)\n",
    "# Assuming a rough conversion factor (not accurate for large distances or near the poles)\n",
    "distance_degrees = [d / 111139 for d in distances]\n",
    "\n",
    "# Plot reference points\n",
    "for (lat, lon), distance_degree in zip(reference_points, distance_degrees):\n",
    "    ax.plot(lon, lat, 'bo')  # Reference points in blue\n",
    "    circle = plt.Circle((lon, lat), distance_degree, color='b', fill=False, linestyle='--')\n",
    "    ax.add_artist(circle)\n",
    "\n",
    "# Plot the calculated point\n",
    "ax.plot(calculated_point[1], calculated_point[0], 'rx')  # Calculated point in red\n",
    "\n",
    "# Set labels and show plot\n",
    "ax.set_xlabel('Longitude')\n",
    "ax.set_ylabel('Latitude')\n",
    "ax.set_title('Multilateration Visualization')\n",
    "plt.grid(True)\n",
    "plt.axis('equal')  # Equal aspect ratio to ensure circles look like circles\n",
    "plt.show()\n"
   ]
  }
 ],
 "metadata": {
  "kernelspec": {
   "display_name": ".venv",
   "language": "python",
   "name": "python3"
  },
  "language_info": {
   "codemirror_mode": {
    "name": "ipython",
    "version": 3
   },
   "file_extension": ".py",
   "mimetype": "text/x-python",
   "name": "python",
   "nbconvert_exporter": "python",
   "pygments_lexer": "ipython3",
   "version": "3.12.1"
  }
 },
 "nbformat": 4,
 "nbformat_minor": 2
}
