{
 "cells": [
  {
   "cell_type": "code",
   "execution_count": null,
   "metadata": {},
   "outputs": [],
   "source": [
    "from grindr_access.grindrUser import grindrUser\n",
    "from time import sleep\n",
    "import random, os, pickle\n",
    "from datetime import datetime\n",
    "from math import radians, cos, sin, asin, sqrt\n",
    "import numpy as np\n",
    "from dotenv import load_dotenv\n",
    "from copy import deepcopy\n",
    "from influxdb_client import InfluxDBClient, Point, WriteOptions,WritePrecision\n",
    "from mongoengine import connect\n",
    "load_dotenv()\n",
    "\n",
    "user = grindrUser()\n",
    "mail = os.getenv('GRINDR_MAIL')\n",
    "password = os.getenv('GRINDR_PASS')\n",
    "krk_lat = 50.059185\n",
    "krk_lon = 19.937809\n",
    "\n",
    "user.login(mail, password)\n",
    "connect(\n",
    "    db=os.getenv('MONGO_DB'),\n",
    "    host=os.getenv('MONGO_URL'),\n",
    "    port=27017,\n",
    "    username=os.getenv('MONGO_USR'),\n",
    "    password=os.getenv('MONGO_PWD'),\n",
    "    authentication_source=\"admin\"\n",
    "    )\n"
   ]
  },
  {
   "cell_type": "code",
   "execution_count": null,
   "metadata": {},
   "outputs": [],
   "source": [
    "def generate_grid_points(center_lat, center_lon, side_m, points_per_side):\n",
    "    # Approximate conversion factor: 1 degree latitude = 111,000 meters\n",
    "    deg_per_m = 1 / 111000\n",
    "\n",
    "    # Calculate half side in degrees\n",
    "    half_side_deg = (side_m / 2) * deg_per_m\n",
    "\n",
    "    # Define the rectangle corners\n",
    "    top_lat = center_lat + half_side_deg\n",
    "    bottom_lat = center_lat - half_side_deg\n",
    "    # Adjust for longitude using cos(), now considering meters\n",
    "    left_lon = center_lon - half_side_deg / cos(radians(center_lat))\n",
    "    right_lon = center_lon + half_side_deg / cos(radians(center_lat))\n",
    "\n",
    "    # Generate latitude and longitude points\n",
    "    lat_steps = np.linspace(bottom_lat, top_lat, points_per_side)\n",
    "    lon_steps = np.linspace(left_lon, right_lon, points_per_side)\n",
    "\n",
    "    grid_points = [(lat, lon) for lat in lat_steps for lon in lon_steps]\n",
    "\n",
    "    return grid_points\n"
   ]
  },
  {
   "cell_type": "code",
   "execution_count": null,
   "metadata": {},
   "outputs": [],
   "source": [
    "# Example usage\n",
    "center_lat, center_lon = krk_lat, krk_lon # Equator and Prime Meridian\n",
    "side_m = 10000 # 10 km side length\n",
    "accuracy_m = 1000 # 1000m \n",
    "points_per_side = int(side_m/accuracy_m) # Generate 64 points\n",
    "\n",
    "grid_points = generate_grid_points(center_lat, center_lon, side_m, points_per_side)"
   ]
  },
  {
   "cell_type": "code",
   "execution_count": null,
   "metadata": {},
   "outputs": [],
   "source": [
    "record_measurement_key=\"profileId\",\n",
    "record_time_key=\"created\",\n",
    "record_tag_keys=[\"lat\", \"lon\",\"type\",\"batch_timestamp\",\"@type\"],\n",
    "record_field_keys=['lastOnline', 'photoMediaHashes', 'heightCm',\n",
    "'weightGrams', 'lookingFor', 'tribes', 'meetAt', 'vaccines', 'genders',\n",
    "'pronouns', 'bodyType', 'approximateDistance', 'tags', 'isFavorite',\n",
    "'socialNetworks', 'isBoosting', 'hasChattedInLast24Hrs',\n",
    "'hasUnviewedSpark', 'isTeleporting', 'isRightNow', 'unreadCount',\n",
    "'rightNow', 'distanceMeters',\n",
    "'relationshipStatus', 'aboutMe', 'age', 'ethnicity', 'sexualPosition',\n",
    "'acceptsNsfwPics', 'hivStatus', 'displayName', 'lastTestedDate',\n",
    "'cascadePlacementName', \"lat\", \"lon\"]"
   ]
  },
  {
   "cell_type": "code",
   "execution_count": null,
   "metadata": {},
   "outputs": [],
   "source": [
    "from profile_model import ProfileModel"
   ]
  },
  {
   "cell_type": "code",
   "execution_count": null,
   "metadata": {},
   "outputs": [],
   "source": [
    "i = 0\n",
    "profiles = {}\n",
    "batch_timestamp = int(datetime.now().timestamp() * 1000)\n",
    "for point in grid_points:\n",
    "    timestamp = int(datetime.now().timestamp() * 1000)\n",
    "    loc_date_key = (point[0], point[1], timestamp)\n",
    "    time_to_sleep = random.uniform(0, 4)\n",
    "    print(f\"{i}/{len(grid_points)} - {point} - {timestamp} - {time_to_sleep}\")\n",
    "    profile_list = user.getProfiles(point[0], point[1])\n",
    "    for profile in profile_list['items']:\n",
    "        prof = {}\n",
    "        prof.update(profile['data'])\n",
    "        profile_types = [\"PartialProfileV1\", \"FullProfileV1\"]\n",
    "        if any(element in prof.get('@type') for element in profile_types):\n",
    "            prof['created'] = timestamp\n",
    "            prof['lat'] =  point[0]\n",
    "            prof['lon'] =  point[1]\n",
    "            prof['batch_timestamp'] = batch_timestamp\n",
    "            new_doc = ProfileModel(**prof)\n",
    "            new_doc.save()\n",
    "\n",
    "\n",
    "    profiles[loc_date_key] = deepcopy(profile_list)\n",
    "    sleep(time_to_sleep)\n",
    "    i+=1"
   ]
  },
  {
   "cell_type": "code",
   "execution_count": null,
   "metadata": {},
   "outputs": [],
   "source": [
    "# Ensure the data directory exists\n",
    "os.makedirs('data', exist_ok=True)\n",
    "# Get the current datetime in Unix time milliseconds\n",
    "file_name = f\"{int(datetime.now().timestamp() * 1000)}.pickle\"\n",
    "file_path = os.path.join('data', file_name)\n",
    "\n",
    "# Pickle the dictionary\n",
    "with open(file_path, 'wb') as file:\n",
    "    pickle.dump(profiles, file)\n"
   ]
  }
 ],
 "metadata": {
  "kernelspec": {
   "display_name": "Python 3",
   "language": "python",
   "name": "python3"
  },
  "language_info": {
   "codemirror_mode": {
    "name": "ipython",
    "version": 3
   },
   "file_extension": ".py",
   "mimetype": "text/x-python",
   "name": "python",
   "nbconvert_exporter": "python",
   "pygments_lexer": "ipython3",
   "version": "3.12.1"
  }
 },
 "nbformat": 4,
 "nbformat_minor": 2
}
