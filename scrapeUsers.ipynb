{
 "cells": [
  {
   "cell_type": "code",
   "execution_count": null,
   "metadata": {},
   "outputs": [],
   "source": [
    "from grindr_access.grindrUser import grindrUser\n",
    "from time import sleep\n",
    "import random, os, pickle\n",
    "from datetime import datetime\n",
    "from math import radians, cos, sin, asin, sqrt\n",
    "import numpy as np\n",
    "from dotenv import load_dotenv\n",
    "from copy import deepcopy\n",
    "from influxdb_client import InfluxDBClient, Point, WriteOptions,WritePrecision\n",
    "from mongoengine import connect, NotUniqueError\n",
    "load_dotenv()\n",
    "\n",
    "user = grindrUser()\n",
    "mail = os.getenv('GRINDR_MAIL')\n",
    "password = os.getenv('GRINDR_PASS')\n",
    "krk_lat = 50.059185\n",
    "krk_lon = 19.937809\n",
    "\n",
    "user.login(mail, password)\n",
    "connect(\n",
    "    db=os.getenv('MONGO_DB'),\n",
    "    host=os.getenv('MONGO_URL'),\n",
    "    port=27017,\n",
    "    username=os.getenv('MONGO_USR'),\n",
    "    password=os.getenv('MONGO_PWD'),\n",
    "    authentication_source=\"admin\"\n",
    "    )\n"
   ]
  },
  {
   "cell_type": "code",
   "execution_count": null,
   "metadata": {},
   "outputs": [],
   "source": [
    "from stalkr import generate_grid_points, localizeProfile"
   ]
  },
  {
   "cell_type": "code",
   "execution_count": null,
   "metadata": {},
   "outputs": [],
   "source": [
    "# Example usage\n",
    "center_lat, center_lon = krk_lat, krk_lon # Equator and Prime Meridian\n",
    "side_m = 10000 # 10 km side length\n",
    "accuracy_m = 1000 # 1000m \n",
    "points_per_side = int(side_m/accuracy_m) # Generate 100 points\n",
    "\n",
    "grid_points = generate_grid_points(center_lat, center_lon, side_m, points_per_side,jitter_m=100)"
   ]
  },
  {
   "cell_type": "code",
   "execution_count": null,
   "metadata": {},
   "outputs": [],
   "source": [
    "from profile_model import ProfileModel"
   ]
  },
  {
   "cell_type": "code",
   "execution_count": null,
   "metadata": {},
   "outputs": [],
   "source": [
    "i = 0\n",
    "profiles = {}\n",
    "batch_timestamp = int(datetime.now().timestamp() * 1000)\n",
    "for point in grid_points:\n",
    "    timestamp = int(datetime.now().timestamp() * 1000)\n",
    "    loc_date_key = (point[0], point[1], timestamp)\n",
    "    time_to_sleep = random.uniform(0, 4)\n",
    "    print(f\"{i}/{len(grid_points)} - {point} - {timestamp} - {time_to_sleep}\")\n",
    "    profile_list = user.getProfiles(point[0], point[1])\n",
    "    for profile in profile_list['items']:\n",
    "        prof = {}\n",
    "        prof.update(profile['data'])\n",
    "        profile_types = [\"PartialProfileV1\", \"FullProfileV1\"]\n",
    "        if any(element in prof.get('@type') for element in profile_types):\n",
    "            prof['created'] = timestamp\n",
    "            prof['lat'] =  point[0] # Add the lat and lon of the anchor point\n",
    "            prof['lon'] =  point[1]\n",
    "            prof['batch_timestamp'] = batch_timestamp\n",
    "            new_doc = ProfileModel(**prof)\n",
    "            new_doc.save()\n",
    "            if profiles.get(new_doc.profileId) is None:\n",
    "                profiles[new_doc.profileId] = []\n",
    "            profiles[new_doc.profileId].append(deepcopy(prof))\n",
    "\n",
    "    sleep(time_to_sleep)\n",
    "    i+=1"
   ]
  },
  {
   "cell_type": "code",
   "execution_count": null,
   "metadata": {},
   "outputs": [],
   "source": [
    "locations = {}\n",
    "localized_profiles = {}\n",
    "for profileId, profileList in profiles.items():\n",
    "    new_locations, profile = localizeProfile(profileList)\n",
    "    if profile:\n",
    "        localized_profiles[profileId] = profile\n",
    "        try:\n",
    "            profile.save()  # Attempt to save the new profile\n",
    "        except NotUniqueError:\n",
    "            print(\"A document with the same unique index already exists. Ignoring.\")\n",
    "    locations.update(new_locations)"
   ]
  },
  {
   "cell_type": "code",
   "execution_count": null,
   "metadata": {},
   "outputs": [],
   "source": [
    "localized_profiles[542849597]"
   ]
  },
  {
   "cell_type": "code",
   "execution_count": null,
   "metadata": {},
   "outputs": [],
   "source": [
    "profiles[542849597]"
   ]
  }
 ],
 "metadata": {
  "kernelspec": {
   "display_name": "Python 3",
   "language": "python",
   "name": "python3"
  },
  "language_info": {
   "codemirror_mode": {
    "name": "ipython",
    "version": 3
   },
   "file_extension": ".py",
   "mimetype": "text/x-python",
   "name": "python",
   "nbconvert_exporter": "python",
   "pygments_lexer": "ipython3",
   "version": "3.12.1"
  }
 },
 "nbformat": 4,
 "nbformat_minor": 2
}
