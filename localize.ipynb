{
 "cells": [
  {
   "cell_type": "code",
   "execution_count": null,
   "metadata": {},
   "outputs": [],
   "source": [
    "from dotenv import load_dotenv\n",
    "import os\n",
    "load_dotenv()\n",
    "from mongoengine import connect\n",
    "connect(\n",
    "    db=os.getenv('MONGO_DB'),\n",
    "    host=os.getenv('MONGO_URL'),\n",
    "    port=27017,\n",
    "    username=os.getenv('MONGO_USR'),\n",
    "    password=os.getenv('MONGO_PWD'),\n",
    "    authentication_source=\"admin\"\n",
    "    )"
   ]
  },
  {
   "cell_type": "code",
   "execution_count": null,
   "metadata": {},
   "outputs": [],
   "source": [
    "from profile_model import ProfileModel, LocatedProfileModel\n",
    "from mongoengine import connect, Document, LongField, StringField\n",
    "from datetime import datetime, timedelta\n",
    "import time\n",
    "import pandas as pd"
   ]
  },
  {
   "cell_type": "code",
   "execution_count": null,
   "metadata": {},
   "outputs": [],
   "source": [
    "import math\n",
    "import localization as lx\n",
    "# Initialize an empty dictionary to store the results\n",
    "\n",
    "def localize(ref_points,distances):\n",
    "    P=lx.Project(mode='Earth1',solver='LSE')\n",
    "    if len(ref_points) < 3:\n",
    "        return\n",
    "    if any(math.isnan(distance) for distance in distances):\n",
    "        return\n",
    "    for i in range(len(ref_points)):\n",
    "        P.add_anchor(f'anchore_{i}',ref_points[i])\n",
    "    t,label=P.add_target(ID=123)\n",
    "    for i in range(len(distances)):\n",
    "        t.add_measure(f'anchore_{i}',distances[i])\n",
    "    P.solve()\n",
    "\n",
    "    return t.loc.x, t.loc.y"
   ]
  },
  {
   "cell_type": "code",
   "execution_count": null,
   "metadata": {},
   "outputs": [],
   "source": [
    "import matplotlib.pyplot as plt\n",
    "import numpy as np\n",
    "\n",
    "def visualize(locations):\n",
    "    # Example reference points and distances (lat, lon) and meters\n",
    "    reference_points = locations['ref_points']\n",
    "    distances = locations['distances']\n",
    "    calculated_point = locations['estimated_position']\n",
    "\n",
    "    # Plotting\n",
    "    fig, ax = plt.subplots()\n",
    "\n",
    "    # Convert distances to degrees approximately (quick approximation, valid for short distances)\n",
    "    # Assuming a rough conversion factor (not accurate for large distances or near the poles)\n",
    "    distance_degrees = [d / 111139 for d in distances]\n",
    "\n",
    "    # Plot reference points\n",
    "    for (lat, lon), distance_degree in zip(reference_points, distance_degrees):\n",
    "        ax.plot(lon, lat, 'bo')  # Reference points in blue\n",
    "        circle = plt.Circle((lon, lat), distance_degree, color='b', fill=False, linestyle='--')\n",
    "        ax.add_artist(circle)\n",
    "\n",
    "    # Plot the calculated point\n",
    "    ax.plot(calculated_point[1], calculated_point[0], 'rx')  # Calculated point in red\n",
    "\n",
    "    # Set labels and show plot\n",
    "    ax.set_xlabel('Longitude')\n",
    "    ax.set_ylabel('Latitude')\n",
    "    ax.set_title('Multilateration Visualization')\n",
    "    plt.grid(True)\n",
    "    plt.axis('equal')  # Equal aspect ratio to ensure circles look like circles\n",
    "    plt.show()"
   ]
  },
  {
   "cell_type": "code",
   "execution_count": null,
   "metadata": {},
   "outputs": [],
   "source": [
    "current_millis = int(time.time() * 1000)\n",
    "\n",
    "# 1 hour ago in milliseconds\n",
    "one_hour_ago_millis = current_millis - 100 * (60 * 60 * 1000)\n",
    "\n",
    "# Aggregation pipeline to filter, group by batch_timestamp, and collect profileIds\n",
    "pipeline = [\n",
    "    {\n",
    "        \"$match\": {\n",
    "            \"batch_timestamp\": {\"$gt\": one_hour_ago_millis}\n",
    "        }\n",
    "    },\n",
    "    {\n",
    "        \"$group\": {\n",
    "            \"_id\": \"$batch_timestamp\",  # Grouping by batch_timestamp\n",
    "            \"profileIds\": {\"$addToSet\": \"$profileId\"}  # Collecting unique profileIds for each batch_timestamp\n",
    "        }\n",
    "    },\n",
    "    {\n",
    "        \"$sort\": {\"_id\": 1}  # Optional: Sorting by batch_timestamp if needed\n",
    "    }\n",
    "]\n",
    "\n",
    "results = ProfileModel.objects.aggregate(*pipeline)\n",
    "\n",
    "# Processing the results to use batch_timestamp as key in a dictionary\n",
    "grouped_profile_ids = {result['_id']: result['profileIds'] for result in results}"
   ]
  },
  {
   "cell_type": "code",
   "execution_count": null,
   "metadata": {},
   "outputs": [],
   "source": [
    "locations = {}\n",
    "for batch_timestamp, profile_ids in grouped_profile_ids.items():\n",
    "    print(f\"Batch Timestamp: {batch_timestamp}, Profile IDs: {profile_ids}\")\n",
    "    # Now, for each profile_id, query documents with the matching profile_id and batch_timestamp\n",
    "    for profile_id in profile_ids:\n",
    "        matching_documents = ProfileModel.objects(\n",
    "            batch_timestamp=batch_timestamp,\n",
    "            profileId=profile_id\n",
    "        )\n",
    "        # You can convert the QuerySet to a list of dictionaries if needed\n",
    "        profiles = list(matching_documents.as_pymongo())\n",
    "        # Convert the list of dictionaries to a pandas DataFrame\n",
    "        profiles_df = pd.DataFrame(profiles)\n",
    "\n",
    "        if \"distanceMeters\" in profiles_df.columns:\n",
    "            ref_points = [[lat, lon] for lat, lon in zip(profiles_df['lat'].tolist(), profiles_df['lon'].tolist())]\n",
    "            distances = profiles_df['distanceMeters'].tolist()\n",
    "            estimated_position = localize(ref_points,distances)\n",
    "            locations[profile_id] = {\n",
    "                \"estimated_position\": estimated_position,\n",
    "                \"batch_timestamp\": batch_timestamp,\n",
    "                \"ref_points\": ref_points,\n",
    "                \"distances\": profiles_df['distanceMeters'].tolist()\n",
    "            }\n",
    "            if estimated_position:\n",
    "                localizedProfile = LocatedProfileModel(**profiles[0]) # Create a new LocatedProfileModel instance\n",
    "                localizedProfile.lat = estimated_position[0]  # Set the estimated latitude\n",
    "                localizedProfile.lon = estimated_position[1]\n",
    "                localizedProfile.save()\n",
    "            print(f\"Profile ID: {profile_id}, Estimated Position: {estimated_position}, ref_points: {len(ref_points)}, average_distance: {sum(distances)/len(distances)}\")"
   ]
  },
  {
   "cell_type": "code",
   "execution_count": null,
   "metadata": {},
   "outputs": [],
   "source": [
    "locations.keys()"
   ]
  },
  {
   "cell_type": "code",
   "execution_count": null,
   "metadata": {},
   "outputs": [],
   "source": [
    "visualize(locations[350730666])"
   ]
  }
 ],
 "metadata": {
  "kernelspec": {
   "display_name": ".venv",
   "language": "python",
   "name": "python3"
  },
  "language_info": {
   "codemirror_mode": {
    "name": "ipython",
    "version": 3
   },
   "file_extension": ".py",
   "mimetype": "text/x-python",
   "name": "python",
   "nbconvert_exporter": "python",
   "pygments_lexer": "ipython3",
   "version": "3.12.1"
  }
 },
 "nbformat": 4,
 "nbformat_minor": 2
}
